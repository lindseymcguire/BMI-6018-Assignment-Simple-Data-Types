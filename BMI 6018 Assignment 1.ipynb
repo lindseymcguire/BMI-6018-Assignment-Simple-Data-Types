{
 "cells": [
  {
   "cell_type": "code",
   "execution_count": 2,
   "id": "5a240979-bafc-462c-abd2-a71c4a9a8370",
   "metadata": {},
   "outputs": [
    {
     "data": {
      "text/plain": [
       "int"
      ]
     },
     "execution_count": 2,
     "metadata": {},
     "output_type": "execute_result"
    }
   ],
   "source": [
    "# Question 7\n",
    "# jack has 5 medications\n",
    "Medication = 5\n",
    "type(Medication)"
   ]
  },
  {
   "cell_type": "code",
   "execution_count": 5,
   "id": "797c549b-3c9d-46f9-a23f-7e01127ebe9d",
   "metadata": {},
   "outputs": [
    {
     "name": "stdout",
     "output_type": "stream",
     "text": [
      "37.974683544303794\n"
     ]
    }
   ],
   "source": [
    "# Question 8\n",
    "# calculating Susan's BMI\n",
    "susan_weight = 60\n",
    "susan_height = 1.58\n",
    "susan_bmi = (susan_weight/susan_height)\n",
    "print(susan_bmi)\n"
   ]
  },
  {
   "cell_type": "code",
   "execution_count": 24,
   "id": "d89224ad-a061-4b65-94ec-b3636305786e",
   "metadata": {},
   "outputs": [],
   "source": [
    "# Question 11"
   ]
  },
  {
   "cell_type": "code",
   "execution_count": 15,
   "id": "c3e72c26-a75b-445f-b21b-2f756bea5824",
   "metadata": {},
   "outputs": [
    {
     "name": "stdout",
     "output_type": "stream",
     "text": [
      "2\n"
     ]
    }
   ],
   "source": [
    "# Question 1 (Booleans)\n",
    "# boolean True + boolean True - boolean False = ?\n",
    "print(True + True - False)"
   ]
  },
  {
   "cell_type": "code",
   "execution_count": 17,
   "id": "c51dbbb4-e719-4d2f-9e99-cde0e3a1e605",
   "metadata": {},
   "outputs": [
    {
     "name": "stdout",
     "output_type": "stream",
     "text": [
      "1\n"
     ]
    }
   ],
   "source": [
    "# Question 2 (Booleans 2)\n",
    "# logical tracker = True\n",
    "# logical tracker = logical tracker & logical tracker\n",
    "# logical tracker = logical tracker | (logical tracker - logical tracker)\n",
    "# logical tracker  = ?\n",
    "\n",
    "logical_tracker = True\n",
    "logical_tracker = logical_tracker & logical_tracker\n",
    "logical_tracker = logical_tracker | (logical_tracker - logical_tracker)\n",
    "print(logical_tracker)\n",
    "\n"
   ]
  },
  {
   "cell_type": "code",
   "execution_count": 20,
   "id": "dd87bbe0-0f3d-4ee6-a2c7-b192b13ff402",
   "metadata": {},
   "outputs": [
    {
     "name": "stdout",
     "output_type": "stream",
     "text": [
      " \n"
     ]
    }
   ],
   "source": [
    "# Question 5 (Strings)\n",
    "# string = \"E. Coli\"\n",
    "# string[2]=\n",
    "\n",
    "string = \"E. Coli\"\n",
    "print(string[2])\n"
   ]
  },
  {
   "cell_type": "code",
   "execution_count": 21,
   "id": "b7585a7b-f7a9-4ed1-bba6-4477bee40b4f",
   "metadata": {},
   "outputs": [
    {
     "ename": "TypeError",
     "evalue": "'str' object does not support item assignment",
     "output_type": "error",
     "traceback": [
      "\u001b[31m---------------------------------------------------------------------------\u001b[39m",
      "\u001b[31mTypeError\u001b[39m                                 Traceback (most recent call last)",
      "\u001b[36mCell\u001b[39m\u001b[36m \u001b[39m\u001b[32mIn[21]\u001b[39m\u001b[32m, line 7\u001b[39m\n\u001b[32m      1\u001b[39m \u001b[38;5;66;03m# Question 6 (Strings 2)\u001b[39;00m\n\u001b[32m      2\u001b[39m \u001b[38;5;66;03m# Oh no! My string has a typo!\u001b[39;00m\n\u001b[32m      3\u001b[39m \u001b[38;5;66;03m# string = \"I Bove python\"\u001b[39;00m\n\u001b[32m      4\u001b[39m \u001b[38;5;66;03m# No worries though. I'll just fix that.\u001b[39;00m\n\u001b[32m      5\u001b[39m \u001b[38;5;66;03m# string[2]=\"L\"\u001b[39;00m\n\u001b[32m      6\u001b[39m string = \u001b[33m\"\u001b[39m\u001b[33mI Bove python\u001b[39m\u001b[33m\"\u001b[39m\n\u001b[32m----> \u001b[39m\u001b[32m7\u001b[39m \u001b[43mstring\u001b[49m\u001b[43m[\u001b[49m\u001b[32;43m2\u001b[39;49m\u001b[43m]\u001b[49m = \u001b[33m\"\u001b[39m\u001b[33mL\u001b[39m\u001b[33m\"\u001b[39m\n\u001b[32m      8\u001b[39m \u001b[38;5;28mprint\u001b[39m(string)\n",
      "\u001b[31mTypeError\u001b[39m: 'str' object does not support item assignment"
     ]
    }
   ],
   "source": [
    "# Question 6 (Strings 2)\n",
    "# Oh no! My string has a typo!\n",
    "# string = \"I Bove python\"\n",
    "# No worries though. I'll just fix that.\n",
    "# string[2]=\"L\"\n",
    "string = \"I Bove python\"\n",
    "string[2] = \"L\"\n",
    "print(string)\n",
    "\n"
   ]
  },
  {
   "cell_type": "code",
   "execution_count": 22,
   "id": "b3a10423-5769-40ab-9da7-53582ab3cb8d",
   "metadata": {},
   "outputs": [
    {
     "data": {
      "text/plain": [
       "4"
      ]
     },
     "execution_count": 22,
     "metadata": {},
     "output_type": "execute_result"
    }
   ],
   "source": [
    "# Question 9 (Operators 2)\n",
    "# Explain how the \"+\", addition operation works differently for integers and strings.\n",
    "2+2\n"
   ]
  },
  {
   "cell_type": "code",
   "execution_count": 23,
   "id": "5587b692-c40c-4a98-8375-163dda7d89d8",
   "metadata": {},
   "outputs": [
    {
     "data": {
      "text/plain": [
       "'73'"
      ]
     },
     "execution_count": 23,
     "metadata": {},
     "output_type": "execute_result"
    }
   ],
   "source": [
    "# Question 10 (Strings 3)\n",
    "# Type the output if the strings \"7\" and \"3\" are added.\n",
    "\"7\" + \"3\""
   ]
  },
  {
   "cell_type": "code",
   "execution_count": null,
   "id": "13207c21-95dd-4f0a-b100-3f2790147503",
   "metadata": {},
   "outputs": [],
   "source": []
  }
 ],
 "metadata": {
  "kernelspec": {
   "display_name": "Python 3 (ipykernel)",
   "language": "python",
   "name": "python3"
  },
  "language_info": {
   "codemirror_mode": {
    "name": "ipython",
    "version": 3
   },
   "file_extension": ".py",
   "mimetype": "text/x-python",
   "name": "python",
   "nbconvert_exporter": "python",
   "pygments_lexer": "ipython3",
   "version": "3.12.4"
  }
 },
 "nbformat": 4,
 "nbformat_minor": 5
}
